{
 "cells": [
  {
   "cell_type": "code",
   "execution_count": 1,
   "metadata": {},
   "outputs": [],
   "source": [
    "import random\n",
    "import numpy as np\n",
    "import numpy.matlib\n",
    "import pandas as pd\n",
    "\n",
    "csv_data = pd.read_csv('trade_new.csv')  # 读取数据\n",
    "csv_data['type5'] = csv_data.apply(lambda x: str(x['pluno'])[:5], axis=1)\n",
    "memberSum = csv_data.groupby([csv_data['vipno'], csv_data['type5']])['amt'].sum()\n",
    "customer = memberSum.index.levels[0]\n",
    "size = len(customer)\n",
    "dict_customer = {}\n",
    "for i in range(size):\n",
    "    dict_customer[customer[i]] = i"
   ]
  },
  {
   "cell_type": "code",
   "execution_count": 15,
   "metadata": {},
   "outputs": [],
   "source": [
    "def jaccard(userId1, userId2):\n",
    "    if userId1 == userId2:\n",
    "        return 1.0\n",
    "    return jaccardSeri(memberSum.loc[userId1], memberSum.loc[userId2])\n",
    "\n",
    "def jaccardSeri(user1, user2):\n",
    "    sim = 0\n",
    "    user1 = pd.DataFrame(user1)\n",
    "    user2 = pd.DataFrame(user2)\n",
    "    for i, row in user1.iterrows():\n",
    "        user1.loc[i,\"type5\"] = i\n",
    "    user1[\"type4\"] = user1.apply(lambda x:str(x[\"type5\"])[:4], axis = 1)\n",
    "    user1[\"type3\"] = user1.apply(lambda x:str(x[\"type5\"])[:3], axis = 1)\n",
    "    user1[\"type2\"] = user1.apply(lambda x:str(x[\"type5\"])[:2], axis = 1)\n",
    "    for i, row in user2.iterrows():\n",
    "        user2.loc[i,\"type5\"] = i\n",
    "    user2[\"type4\"] = user2.apply(lambda x:str(x[\"type5\"])[:4], axis = 1)\n",
    "    user2[\"type3\"] = user2.apply(lambda x:str(x[\"type5\"])[:3], axis = 1)\n",
    "    user2[\"type2\"] = user2.apply(lambda x:str(x[\"type5\"])[:2], axis = 1)\n",
    "#     print(user1, user2)\n",
    "    for i in range(2, 6):\n",
    "        sum_user1 = user1.groupby(user1['type'+str(i)])['amt'].sum()\n",
    "        sum_user2 = user2.groupby(user2['type'+str(i)])['amt'].sum()                      \n",
    "        jiao = 0\n",
    "        bing = 0\n",
    "        for j in sum_user2.index:\n",
    "            if j in sum_user1.index:\n",
    "                jiao = jiao + min(sum_user1.loc[j], sum_user2.loc[j])\n",
    "                bing = bing + max(sum_user1.loc[j], sum_user2.loc[j])\n",
    "            else:\n",
    "                bing = bing + sum_user2.loc[j]\n",
    "        for j in sum_user1.index:\n",
    "            if j not in sum_user2.index:\n",
    "                bing = bing + sum_user1.loc[j]\n",
    "        sim = sim + jiao / bing * (i+1)\n",
    "    return sim/4"
   ]
  },
  {
   "cell_type": "code",
   "execution_count": 16,
   "metadata": {},
   "outputs": [],
   "source": [
    "matrix = np.matlib.ones((size, size))\n",
    "for i in range(size):\n",
    "    for j in range(i+1, size):\n",
    "        matrix[i,j] = jaccard(customer[i], customer[j])\n",
    "        matrix[j,i] = matrix[i,j]"
   ]
  },
  {
   "cell_type": "code",
   "execution_count": 18,
   "metadata": {},
   "outputs": [],
   "source": [
    "pointNum_list = [1]\n",
    "sc_list = []\n",
    "cp_list = []\n",
    "\n",
    "for times in range(8):\n",
    "    pointNum = pointNum_list[-1]\n",
    "    pointNum_list.append(2*pointNum)\n",
    "    # 初始化质心，设置种子方便复现\n",
    "    random.seed(2020)\n",
    "    beginCentroids = [int(size * random.random())]\n",
    "    while len(beginCentroids) < pointNum:\n",
    "        minIndex = 0\n",
    "        minValue = 1\n",
    "        for i in range(size):\n",
    "            if i in beginCentroids:\n",
    "                continue\n",
    "            maxV = 0\n",
    "            for j in beginCentroids:\n",
    "#                 distance = jaccard(customer[i], customer[j])\n",
    "                distance =  matrix[i, j]\n",
    "                if distance > maxV:\n",
    "                    maxV = distance\n",
    "            if maxV < minValue:\n",
    "                minValue = maxV\n",
    "                minIndex = i\n",
    "        beginCentroids.append(minIndex)\n",
    "    # 开始聚类\n",
    "    clusters = []\n",
    "    nowCentroids = []\n",
    "    for i in beginCentroids:\n",
    "        clusters.append([customer[i]])\n",
    "        nowCentroids.append(memberSum.loc[customer[i]])\n",
    "    # 其他点聚类\n",
    "    for i in range(size):\n",
    "        if i in beginCentroids:\n",
    "            continue\n",
    "        clusterIndex = 0\n",
    "        clusterValue = 0\n",
    "        for j in range(pointNum):\n",
    "            distance = jaccardSeri(memberSum.loc[customer[i]], nowCentroids[j])\n",
    "            if clusterValue < distance:\n",
    "                clusterValue = distance\n",
    "                clusterIndex = j\n",
    "        nowCentroids[clusterIndex] = nowCentroids[clusterIndex].apply(lambda x:x*len(clusters[clusterIndex]))\n",
    "        clusters[clusterIndex].append(customer[i])\n",
    "        for j in memberSum.loc[customer[i]].index:\n",
    "            if j in nowCentroids[clusterIndex].index:\n",
    "                nowCentroids[clusterIndex].loc[j] = nowCentroids[clusterIndex].loc[j] + memberSum.loc[customer[i]].loc[j]\n",
    "            else:\n",
    "                nowCentroids[clusterIndex].loc[j] = memberSum.loc[customer[i]].loc[j]\n",
    "        nowCentroids[clusterIndex] = nowCentroids[clusterIndex].apply(lambda x:x/len(clusters[clusterIndex]))\n",
    "    # 起始点聚类\n",
    "    for i in range(pointNum):\n",
    "        clusterIndex = 0\n",
    "        clusterValue = 0\n",
    "        for j in range(pointNum):\n",
    "            distance = jaccardSeri(memberSum.loc[customer[beginCentroids[i]]], nowCentroids[j])\n",
    "            if clusterValue < distance:\n",
    "                clusterValue = distance\n",
    "                clusterIndex = j\n",
    "        if clusterIndex != i:\n",
    "            nowCentroids[i] = nowCentroids[i].apply(lambda x:x*len(clusters[i]))\n",
    "            nowCentroids[clusterIndex] = nowCentroids[clusterIndex].apply(lambda x:x*len(clusters[clusterIndex]))\n",
    "            delete = clusters[i].pop(0)\n",
    "            clusters[clusterIndex].append(delete)\n",
    "            for k in memberSum.loc[delete].index:\n",
    "                if k in nowCentroids[i].index:\n",
    "                    nowCentroids[i].loc[k] = nowCentroids[i].loc[k] - memberSum.loc[delete].loc[k]\n",
    "                if k in nowCentroids[clusterIndex].index:\n",
    "                    nowCentroids[clusterIndex].loc[k] = nowCentroids[clusterIndex].loc[k] + memberSum.loc[delete].loc[k]\n",
    "                else:\n",
    "                    nowCentroids[clusterIndex].loc[k] = memberSum.loc[delete].loc[k]\n",
    "            nowCentroids[i] = nowCentroids[i].apply(lambda x:0 if len(clusters[i])==0 else x/len(clusters[i]))\n",
    "            nowCentroids[clusterIndex] = nowCentroids[clusterIndex].apply(lambda x:0 if len(clusters[clusterIndex])==0 else x/len(clusters[clusterIndex]))\n",
    "    # 计算sc\n",
    "    sc = 0\n",
    "    for i in range(pointNum):\n",
    "        if len(clusters[i]) == 0:\n",
    "            continue\n",
    "        for customerId in clusters[i]:\n",
    "            a = 0\n",
    "            b = 0\n",
    "            for j in range(pointNum):\n",
    "                if i == j:\n",
    "                    for otherC in clusters[j]:\n",
    "                        a = a + 1 - matrix[dict_customer[customerId], dict_customer[otherC]]\n",
    "#                             a = a + 1 - jaccard(customerId, otherC)\n",
    "                else:\n",
    "                    for otherC in clusters[j]:\n",
    "                        b = b + 1 - matrix[dict_customer[customerId], dict_customer[otherC]]\n",
    "#                         tem = 1 - jaccard(customerId, otherC)\n",
    "            if len(clusters[i]) == 1:\n",
    "                a = 0\n",
    "            else:\n",
    "                a = a/(len(clusters[i])-1)\n",
    "            if len(clusters[i]) == size:\n",
    "                b = 0\n",
    "            else:\n",
    "                b = b/(size - len(clusters[i]))\n",
    "            sc = sc + (b-a)/max(a, b)\n",
    "    sc_list.append(sc/size)\n",
    "    # 计算cp\n",
    "    cp = 0\n",
    "    for i in range(pointNum):\n",
    "        if len(clusters[i]) == 0:\n",
    "            continue\n",
    "        cpi = 0\n",
    "        for j in clusters[i]:\n",
    "            cpi = cpi + 1 - jaccardSeri(memberSum.loc[j], nowCentroids[i])\n",
    "        cp = cp + cpi/len(clusters[i])\n",
    "    cp_list.append(cp/pointNum)"
   ]
  },
  {
   "cell_type": "code",
   "execution_count": 19,
   "metadata": {},
   "outputs": [
    {
     "data": {
      "image/png": "[encoded data removed]",
      "text/plain": [
       "<Figure size 432x288 with 1 Axes>"
      ]
     },
     "metadata": {
      "needs_background": "light"
     },
     "output_type": "display_data"
    }
   ],
   "source": [
    "import matplotlib.pyplot as plt\n",
    "\n",
    "pointNum_list.pop(-1)\n",
    "plt.plot(pointNum_list, sc_list)\n",
    "plt.plot(pointNum_list, cp_list)\n",
    "plt.show()"
   ]
  },
  {
   "cell_type": "code",
   "execution_count": 20,
   "metadata": {},
   "outputs": [
    {
     "name": "stdout",
     "output_type": "stream",
     "text": [
      "[1, 2, 4, 8, 16, 32, 64, 128]\n",
      "[-1.0, 0.04816548824010907, 0.2522105920053238, 0.22334526408249222, 0.3384616420653611, 0.44633119415139144, 0.6133872357080888, 0.8373833312362445]\n",
      "[0.34703238513733636, 0.2725313432118409, 0.22058929234249047, 0.1267658158052421, -0.353146016250106, -0.9204470633268756, -1.0753647799577781, -1.7869698941663692]\n"
     ]
    }
   ],
   "source": [
    "print(pointNum_list)\n",
    "print(sc_list)\n",
    "print(cp_list)"
   ]
  },
  {
   "cell_type": "code",
   "execution_count": 25,
   "metadata": {},
   "outputs": [],
   "source": [
    "pointNum_list_2 = [13, 14, 15, 16, 17, 18]\n",
    "sc_list_2 = []\n",
    "cp_list_2 = []\n",
    "clusterList = {}\n",
    "\n",
    "for pointNum in pointNum_list_2:\n",
    "    # 初始化质心，设置种子方便复现\n",
    "    random.seed(2020)\n",
    "    beginCentroids = [int(size * random.random())]\n",
    "    while len(beginCentroids) < pointNum:\n",
    "        minIndex = 0\n",
    "        minValue = 1\n",
    "        for i in range(size):\n",
    "            if i in beginCentroids:\n",
    "                continue\n",
    "            maxV = 0\n",
    "            for j in beginCentroids:\n",
    "#                 distance = jaccard(customer[i], customer[j])\n",
    "                distance =  matrix[i, j]\n",
    "                if distance > maxV:\n",
    "                    maxV = distance\n",
    "            if maxV < minValue:\n",
    "                minValue = maxV\n",
    "                minIndex = i\n",
    "        beginCentroids.append(minIndex)\n",
    "    # 开始聚类\n",
    "    clusters = []\n",
    "    nowCentroids = []\n",
    "    for i in beginCentroids:\n",
    "        clusters.append([customer[i]])\n",
    "        nowCentroids.append(memberSum.loc[customer[i]])\n",
    "    # 其他点聚类\n",
    "    for i in range(size):\n",
    "        if i in beginCentroids:\n",
    "            continue\n",
    "        clusterIndex = 0\n",
    "        clusterValue = 0\n",
    "        for j in range(pointNum):\n",
    "            distance = jaccardSeri(memberSum.loc[customer[i]], nowCentroids[j])\n",
    "            if clusterValue < distance:\n",
    "                clusterValue = distance\n",
    "                clusterIndex = j\n",
    "        nowCentroids[clusterIndex] = nowCentroids[clusterIndex].apply(lambda x:x*len(clusters[clusterIndex]))\n",
    "        clusters[clusterIndex].append(customer[i])\n",
    "        for j in memberSum.loc[customer[i]].index:\n",
    "            if j in nowCentroids[clusterIndex].index:\n",
    "                nowCentroids[clusterIndex].loc[j] = nowCentroids[clusterIndex].loc[j] + memberSum.loc[customer[i]].loc[j]\n",
    "            else:\n",
    "                nowCentroids[clusterIndex].loc[j] = memberSum.loc[customer[i]].loc[j]\n",
    "        nowCentroids[clusterIndex] = nowCentroids[clusterIndex].apply(lambda x:x/len(clusters[clusterIndex]))\n",
    "    # 起始点聚类\n",
    "    for i in range(pointNum):\n",
    "        clusterIndex = 0\n",
    "        clusterValue = 0\n",
    "        for j in range(pointNum):\n",
    "            distance = jaccardSeri(memberSum.loc[customer[beginCentroids[i]]], nowCentroids[j])\n",
    "            if clusterValue < distance:\n",
    "                clusterValue = distance\n",
    "                clusterIndex = j\n",
    "        if clusterIndex != i:\n",
    "            nowCentroids[i] = nowCentroids[i].apply(lambda x:x*len(clusters[i]))\n",
    "            nowCentroids[clusterIndex] = nowCentroids[clusterIndex].apply(lambda x:x*len(clusters[clusterIndex]))\n",
    "            delete = clusters[i].pop(0)\n",
    "            clusters[clusterIndex].append(delete)\n",
    "            for k in memberSum.loc[delete].index:\n",
    "                if k in nowCentroids[i].index:\n",
    "                    nowCentroids[i].loc[k] = nowCentroids[i].loc[k] - memberSum.loc[delete].loc[k]\n",
    "                if k in nowCentroids[clusterIndex].index:\n",
    "                    nowCentroids[clusterIndex].loc[k] = nowCentroids[clusterIndex].loc[k] + memberSum.loc[delete].loc[k]\n",
    "                else:\n",
    "                    nowCentroids[clusterIndex].loc[k] = memberSum.loc[delete].loc[k]\n",
    "            nowCentroids[i] = nowCentroids[i].apply(lambda x:0 if len(clusters[i])==0 else x/len(clusters[i]))\n",
    "            nowCentroids[clusterIndex] = nowCentroids[clusterIndex].apply(lambda x:0 if len(clusters[clusterIndex])==0 else x/len(clusters[clusterIndex]))\n",
    "    clusterList[pointNum] = clusters\n",
    "    # 计算sc\n",
    "    sc = 0\n",
    "    for i in range(pointNum):\n",
    "        if len(clusters[i]) == 0:\n",
    "            continue\n",
    "        for customerId in clusters[i]:\n",
    "            a = 0\n",
    "            b = 0\n",
    "            for j in range(pointNum):\n",
    "                if i == j:\n",
    "                    for otherC in clusters[j]:\n",
    "                        a = a + 1 - matrix[dict_customer[customerId], dict_customer[otherC]]\n",
    "#                             a = a + 1 - jaccard(customerId, otherC)\n",
    "                else:\n",
    "                    for otherC in clusters[j]:\n",
    "                        b = b + 1 - matrix[dict_customer[customerId], dict_customer[otherC]]\n",
    "#                         tem = 1 - jaccard(customerId, otherC)\n",
    "            if len(clusters[i]) == 1:\n",
    "                a = 0\n",
    "            else:\n",
    "                a = a/(len(clusters[i])-1)\n",
    "            if len(clusters[i]) == size:\n",
    "                b = 0\n",
    "            else:\n",
    "                b = b/(size - len(clusters[i]))\n",
    "            sc = sc + (b-a)/max(a, b)\n",
    "    sc_list_2.append(sc/size)\n",
    "    # 计算cp\n",
    "    cp = 0\n",
    "    for i in range(pointNum):\n",
    "        if len(clusters[i]) == 0:\n",
    "            continue\n",
    "        cpi = 0\n",
    "        for j in clusters[i]:\n",
    "            cpi = cpi + 1 - jaccardSeri(memberSum.loc[j], nowCentroids[i])\n",
    "        cp = cp + cpi/len(clusters[i])\n",
    "    cp_list_2.append(cp/pointNum)"
   ]
  },
  {
   "cell_type": "code",
   "execution_count": 26,
   "metadata": {},
   "outputs": [
    {
     "data": {
      "image/png": "[encoded data removed]",
      "text/plain": [
       "<Figure size 432x288 with 1 Axes>"
      ]
     },
     "metadata": {
      "needs_background": "light"
     },
     "output_type": "display_data"
    }
   ],
   "source": [
    "import matplotlib.pyplot as plt\n",
    "\n",
    "plt.plot(pointNum_list_2, sc_list_2)\n",
    "plt.plot(pointNum_list_2, cp_list_2)\n",
    "plt.show()"
   ]
  },
  {
   "cell_type": "code",
   "execution_count": 29,
   "metadata": {},
   "outputs": [
    {
     "data": {
      "text/plain": [
       "[-0.22534356353718243,\n",
       " -0.16832081330623835,\n",
       " -0.1554531461956363,\n",
       " -0.353146016250106,\n",
       " -0.5396297312514076,\n",
       " -0.5233208970603538]"
      ]
     },
     "execution_count": 29,
     "metadata": {},
     "output_type": "execute_result"
    }
   ],
   "source": [
    "cp_list_2"
   ]
  },
  {
   "cell_type": "code",
   "execution_count": 17,
   "metadata": {},
   "outputs": [
    {
     "data": {
      "image/png": "[encoded data removed]",
      "text/plain": [
       "<Figure size 432x288 with 1 Axes>"
      ]
     },
     "metadata": {
      "needs_background": "light"
     },
     "output_type": "display_data"
    }
   ],
   "source": [
    "distance_x_ls = [0.1,0.3,0.5,0.7,0.9]\n",
    "percentage_ls = [0,0,0,0,0]\n",
    "for i in range(size):\n",
    "    for j in range(i+1, size):\n",
    "        temp = matrix[i,j]\n",
    "        if temp <= 0.2:\n",
    "            percentage_ls[0] = percentage_ls[0] + 1\n",
    "        elif temp <= 0.4:\n",
    "            percentage_ls[1] = percentage_ls[1] + 1\n",
    "        elif temp <= 0.6:\n",
    "            percentage_ls[2] = percentage_ls[2] + 1\n",
    "        elif temp <= 0.8:\n",
    "            percentage_ls[3] = percentage_ls[3] + 1\n",
    "        else:\n",
    "            percentage_ls[4] = percentage_ls[4] + 1\n",
    "total = sum(percentage_ls)\n",
    "for i in range(5):\n",
    "    percentage_ls[i] = percentage_ls[i] / total\n",
    "plt.bar(distance_x_ls, percentage_ls, 0.1)\n",
    "plt.show()"
   ]
  }
 ],
 "metadata": {
  "kernelspec": {
   "display_name": "Python 3",
   "language": "python",
   "name": "python3"
  },
  "language_info": {
   "codemirror_mode": {
    "name": "ipython",
    "version": 3
   },
   "file_extension": ".py",
   "mimetype": "text/x-python",
   "name": "python",
   "nbconvert_exporter": "python",
   "pygments_lexer": "ipython3",
   "version": "3.7.6"
  },
  "toc": {
   "base_numbering": 1,
   "nav_menu": {},
   "number_sections": true,
   "sideBar": true,
   "skip_h1_title": false,
   "title_cell": "Table of Contents",
   "title_sidebar": "Contents",
   "toc_cell": false,
   "toc_position": {},
   "toc_section_display": true,
   "toc_window_display": false
  }
 },
 "nbformat": 4,
 "nbformat_minor": 2
}
